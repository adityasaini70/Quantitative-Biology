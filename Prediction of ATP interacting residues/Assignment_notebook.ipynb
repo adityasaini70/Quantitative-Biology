{
 "cells": [
  {
   "cell_type": "markdown",
   "metadata": {
    "colab_type": "text",
    "id": "NMrOYN91o98S"
   },
   "source": [
    "# IQB Assignment - 3 : Prediction of ATP interacting residues\n",
    "### Aditya Saini, 2018125, ECE\n",
    "---\n",
    "\n",
    "### Objective\n",
    "The objective of this assignment was to detect the presence of ATP interacting residues in a given protein sequence. **The main references of this assignment are the videos uploaded by Sir on Google classroom and** [**this research paper**](https://bmcbioinformatics.biomedcentral.com/articles/10.1186/1471-2105-10-434).\n",
    "\n",
    "\n",
    "### Directory structure\n",
    "The structure of the project directory is as follows:\n",
    "\n",
    "* **Assignment_notebook.ipynb :** Jupyter notebook implementation of the Assignment\n",
    "* **Assignment_code.py :** Python code for the assignment\n",
    "* **Report.pdf :** A pdf version of _Assignment_notebook.ipynb_. Contains information regarding usage of code, implementation details, etc.\n",
    "* **train.data :** Data used for creation of dataset\n",
    "* **test1.txt :** Test data\n",
    "* **out_new.csv :** Output data used for submission on Kaggle\n",
    "\n",
    "### Usage\n",
    "Any Python 3.x version will work for the implementation. \n",
    "> For running the script:\n",
    "`\n",
    "    python Assignment_code.py\n",
    "`\n",
    "\n",
    "### Workflow\n",
    "The workflow for this assignment is as follows:\n",
    "1. [**Sec-1 : Extracting data out of 'train.data' to create a viable dataset**](#Sec-1-:-Extracting-data-out-of-train.data-to-create-a-viable-dataset)\n",
    "1. [**Sec-2 : Creating a dataset from extracted data**](#Sec-2-:-Creating-a-dataset-from-extracted-data)\n",
    "    1. [**Sec-2.1 : Generating patterns of given sequences**](#Sec-2.1-:-Generating-patterns-of-given-sequences) \n",
    "    1. [**Sec-2.2 : Creating labels for our data**](#Sec-2.2-:-Creating-labels-for-our-data) \n",
    "    1. [**Sec-2.3 : Creating a binary profile for our generated patterns**](#Sec-2.3-:-Creating-a-binary-profile-for-our-generated-patterns)\n",
    "1. [**Sec-3 : Applying Machine Learning techniques to dataset**](#Sec-3-:-Applying-Machine-Learning-techniques-to-dataset)\n",
    "    1. [**Sec-3.1 : Splitting into training and testing sets**](#Sec-3.1-:-Splitting-into-training-and-testing-sets) \n",
    "    1. [**Sec-3.2 : Fitting our data on the training sets**](#Sec-3.2-:-Fitting-our-data-on-the-training-sets) \n",
    "    1. [**Sec-3.3 : Predicting the test data**](#Sec-3.3-:-Predicting-the-test-data)\n",
    "    1. [**Sec-3.4 : Evaluating our model by calculating the area under ROC curve**](#Sec-3.4-:-Evaluating-our-model-by-calculating-the-area-under-ROC-curve)\n",
    "1. [**Sec-4 : Generating output for submission**](#Sec-4-:-Generating-output-for-submission)\n"
   ]
  },
  {
   "cell_type": "code",
   "execution_count": 0,
   "metadata": {
    "colab": {},
    "colab_type": "code",
    "id": "5OUY-cfL-OhH"
   },
   "outputs": [],
   "source": [
    "import numpy as np\n",
    "import matplotlib.pyplot as plt\n",
    "import pandas as pd\n",
    "from tqdm.auto import tqdm"
   ]
  },
  {
   "cell_type": "markdown",
   "metadata": {
    "colab_type": "text",
    "id": "yY549d08pJej"
   },
   "source": [
    "# Sec-1 : Extracting data out of __train.data__ to create a viable dataset"
   ]
  },
  {
   "cell_type": "code",
   "execution_count": 0,
   "metadata": {
    "colab": {},
    "colab_type": "code",
    "id": "Zr0CMxGL-Phl"
   },
   "outputs": [],
   "source": [
    "data = pd.read_csv('train.data')"
   ]
  },
  {
   "cell_type": "code",
   "execution_count": 3,
   "metadata": {
    "colab": {
     "base_uri": "https://localhost:8080/",
     "height": 402
    },
    "colab_type": "code",
    "id": "XWssqy2Cg8aI",
    "outputId": "38ea5b02-3288-467a-d897-942dc7655e0e"
   },
   "outputs": [
    {
     "data": {
      "text/html": [
       "<div>\n",
       "<style scoped>\n",
       "    .dataframe tbody tr th:only-of-type {\n",
       "        vertical-align: middle;\n",
       "    }\n",
       "\n",
       "    .dataframe tbody tr th {\n",
       "        vertical-align: top;\n",
       "    }\n",
       "\n",
       "    .dataframe thead th {\n",
       "        text-align: right;\n",
       "    }\n",
       "</style>\n",
       "<table border=\"1\" class=\"dataframe\">\n",
       "  <thead>\n",
       "    <tr style=\"text-align: right;\">\n",
       "      <th></th>\n",
       "      <th>Protein_ID</th>\n",
       "      <th>Amino Acid Sequence</th>\n",
       "    </tr>\n",
       "  </thead>\n",
       "  <tbody>\n",
       "    <tr>\n",
       "      <th>0</th>\n",
       "      <td>&gt;1A0I_A</td>\n",
       "      <td>VNIKTNPfkaVSFVESAIKKALDNAGYLIAeikyDGVrGNICVDNT...</td>\n",
       "    </tr>\n",
       "    <tr>\n",
       "      <th>1</th>\n",
       "      <td>&gt;1A82_A</td>\n",
       "      <td>SKRYFVTGTDtevgktvASCALLQAAKAAGYRTAGYkPVASGSEKT...</td>\n",
       "    </tr>\n",
       "    <tr>\n",
       "      <th>2</th>\n",
       "      <td>&gt;1ATP_E</td>\n",
       "      <td>GNAAAAKKGSEQESVKEFLAKAKEDFLKKWETPSQNTAQLDQFDRI...</td>\n",
       "    </tr>\n",
       "    <tr>\n",
       "      <th>3</th>\n",
       "      <td>&gt;1AYL_A</td>\n",
       "      <td>MRVNNGLTPQELEAYGISDVHDIVYNPSYDLLYQEELDPSLTGYER...</td>\n",
       "    </tr>\n",
       "    <tr>\n",
       "      <th>4</th>\n",
       "      <td>&gt;1B0U_A</td>\n",
       "      <td>MMSENKLHVIDLHKRyGGhEvLKGVSLQARAGDVISIIGssgsgks...</td>\n",
       "    </tr>\n",
       "    <tr>\n",
       "      <th>...</th>\n",
       "      <td>...</td>\n",
       "      <td>...</td>\n",
       "    </tr>\n",
       "    <tr>\n",
       "      <th>135</th>\n",
       "      <td>&gt;3C4W_B</td>\n",
       "      <td>MDFGSLETVVANSAFIAARGSFDASSGPASRDRKYLARLKLPPLSK...</td>\n",
       "    </tr>\n",
       "    <tr>\n",
       "      <th>136</th>\n",
       "      <td>&gt;3C5E_A</td>\n",
       "      <td>MGHHHHHHSSGVDLGTENLYFQSMSLQWGHQEVPAKFNFASDVLDH...</td>\n",
       "    </tr>\n",
       "    <tr>\n",
       "      <th>137</th>\n",
       "      <td>&gt;3C9R_A</td>\n",
       "      <td>MGSHHHHHHDITSLYKKAGSAAAVLEENLYFQGSFTMRLKELGEFG...</td>\n",
       "    </tr>\n",
       "    <tr>\n",
       "      <th>138</th>\n",
       "      <td>&gt;3R1R_C</td>\n",
       "      <td>MNQNLLvTkrDGSTerinLDkiHRvLDWAAEGLHNVSISQVELRSH...</td>\n",
       "    </tr>\n",
       "    <tr>\n",
       "      <th>139</th>\n",
       "      <td>&gt;4AT1_D</td>\n",
       "      <td>MTHDNKLGveaiKRGTvIdhIPAQIGFKLLSLFKLTETDQRITIGL...</td>\n",
       "    </tr>\n",
       "  </tbody>\n",
       "</table>\n",
       "<p>140 rows × 2 columns</p>\n",
       "</div>"
      ],
      "text/plain": [
       "    Protein_ID                                Amino Acid Sequence\n",
       "0      >1A0I_A  VNIKTNPfkaVSFVESAIKKALDNAGYLIAeikyDGVrGNICVDNT...\n",
       "1      >1A82_A  SKRYFVTGTDtevgktvASCALLQAAKAAGYRTAGYkPVASGSEKT...\n",
       "2      >1ATP_E  GNAAAAKKGSEQESVKEFLAKAKEDFLKKWETPSQNTAQLDQFDRI...\n",
       "3      >1AYL_A  MRVNNGLTPQELEAYGISDVHDIVYNPSYDLLYQEELDPSLTGYER...\n",
       "4      >1B0U_A  MMSENKLHVIDLHKRyGGhEvLKGVSLQARAGDVISIIGssgsgks...\n",
       "..         ...                                                ...\n",
       "135    >3C4W_B  MDFGSLETVVANSAFIAARGSFDASSGPASRDRKYLARLKLPPLSK...\n",
       "136    >3C5E_A  MGHHHHHHSSGVDLGTENLYFQSMSLQWGHQEVPAKFNFASDVLDH...\n",
       "137    >3C9R_A  MGSHHHHHHDITSLYKKAGSAAAVLEENLYFQGSFTMRLKELGEFG...\n",
       "138    >3R1R_C  MNQNLLvTkrDGSTerinLDkiHRvLDWAAEGLHNVSISQVELRSH...\n",
       "139    >4AT1_D  MTHDNKLGveaiKRGTvIdhIPAQIGFKLLSLFKLTETDQRITIGL...\n",
       "\n",
       "[140 rows x 2 columns]"
      ]
     },
     "execution_count": 3,
     "metadata": {
      "tags": []
     },
     "output_type": "execute_result"
    }
   ],
   "source": [
    "data"
   ]
  },
  {
   "cell_type": "markdown",
   "metadata": {
    "colab_type": "text",
    "id": "IkuNXkCcpST8"
   },
   "source": [
    "---\n",
    "\n",
    "# Sec-2 : Creating a dataset from extracted data "
   ]
  },
  {
   "cell_type": "code",
   "execution_count": 0,
   "metadata": {
    "colab": {},
    "colab_type": "code",
    "id": "PEyRgXSqhF7h"
   },
   "outputs": [],
   "source": [
    "sequence_data = data['Amino Acid Sequence']"
   ]
  },
  {
   "cell_type": "code",
   "execution_count": 5,
   "metadata": {
    "colab": {
     "base_uri": "https://localhost:8080/",
     "height": 218
    },
    "colab_type": "code",
    "id": "fsm6SLk7hIT2",
    "outputId": "fb19deac-6d43-44d4-8c8e-48d26b5383b4"
   },
   "outputs": [
    {
     "data": {
      "text/plain": [
       "0      VNIKTNPfkaVSFVESAIKKALDNAGYLIAeikyDGVrGNICVDNT...\n",
       "1      SKRYFVTGTDtevgktvASCALLQAAKAAGYRTAGYkPVASGSEKT...\n",
       "2      GNAAAAKKGSEQESVKEFLAKAKEDFLKKWETPSQNTAQLDQFDRI...\n",
       "3      MRVNNGLTPQELEAYGISDVHDIVYNPSYDLLYQEELDPSLTGYER...\n",
       "4      MMSENKLHVIDLHKRyGGhEvLKGVSLQARAGDVISIIGssgsgks...\n",
       "                             ...                        \n",
       "135    MDFGSLETVVANSAFIAARGSFDASSGPASRDRKYLARLKLPPLSK...\n",
       "136    MGHHHHHHSSGVDLGTENLYFQSMSLQWGHQEVPAKFNFASDVLDH...\n",
       "137    MGSHHHHHHDITSLYKKAGSAAAVLEENLYFQGSFTMRLKELGEFG...\n",
       "138    MNQNLLvTkrDGSTerinLDkiHRvLDWAAEGLHNVSISQVELRSH...\n",
       "139    MTHDNKLGveaiKRGTvIdhIPAQIGFKLLSLFKLTETDQRITIGL...\n",
       "Name: Amino Acid Sequence, Length: 140, dtype: object"
      ]
     },
     "execution_count": 5,
     "metadata": {
      "tags": []
     },
     "output_type": "execute_result"
    }
   ],
   "source": [
    "sequence_data"
   ]
  },
  {
   "cell_type": "markdown",
   "metadata": {
    "colab_type": "text",
    "id": "tlY9qjVVpWKt"
   },
   "source": [
    "# Sec-2.1 : Generating patterns of given sequences "
   ]
  },
  {
   "cell_type": "code",
   "execution_count": 0,
   "metadata": {
    "colab": {},
    "colab_type": "code",
    "id": "tnApZNx7hK60"
   },
   "outputs": [],
   "source": [
    "def generate_pattern(seq_data, window_size):\n",
    "    dummy_variable_length = int((window_size-1)/2)\n",
    "    ans = [] #Will hold the different patterns for a given amino acid sequence\n",
    "    \n",
    "    for sequence in seq_data:\n",
    "        #Adding dummy variables to the extreme ends of the string\n",
    "        string = \"X\" * dummy_variable_length + sequence + \"X\" * dummy_variable_length\n",
    "\n",
    "        #Generating the patterns of size = \"window_size\"\n",
    "\n",
    "        for idx in range(0, len(string) + 1 - window_size):\n",
    "            ans.append(string[idx : idx + window_size])\n",
    "            \n",
    "    return pd.Series(ans)"
   ]
  },
  {
   "cell_type": "markdown",
   "metadata": {
    "colab_type": "text",
    "id": "BPRivm_JpaDm"
   },
   "source": [
    "#### Referring the research paper and from cross-validation, I set the window-size to 17, for achieving the best results.\n"
   ]
  },
  {
   "cell_type": "code",
   "execution_count": 0,
   "metadata": {
    "colab": {},
    "colab_type": "code",
    "id": "btjsFENdhM7m"
   },
   "outputs": [],
   "source": [
    "size = 17\n",
    "pattern_data = generate_pattern(sequence_data, size)"
   ]
  },
  {
   "cell_type": "code",
   "execution_count": 10,
   "metadata": {
    "colab": {
     "base_uri": "https://localhost:8080/",
     "height": 218
    },
    "colab_type": "code",
    "id": "iy_beplbhPdI",
    "outputId": "c25d59ed-7234-4e68-a07e-b3e7a8171f2e"
   },
   "outputs": [
    {
     "data": {
      "text/plain": [
       "0        XXXXXXXXVNIKTNPfk\n",
       "1        XXXXXXXVNIKTNPfka\n",
       "2        XXXXXXVNIKTNPfkaV\n",
       "3        XXXXXVNIKTNPfkaVS\n",
       "4        XXXXVNIKTNPfkaVSF\n",
       "               ...        \n",
       "49302    CEKEFSHNVVLANXXXX\n",
       "49303    EKEFSHNVVLANXXXXX\n",
       "49304    KEFSHNVVLANXXXXXX\n",
       "49305    EFSHNVVLANXXXXXXX\n",
       "49306    FSHNVVLANXXXXXXXX\n",
       "Length: 49307, dtype: object"
      ]
     },
     "execution_count": 10,
     "metadata": {
      "tags": []
     },
     "output_type": "execute_result"
    }
   ],
   "source": [
    "pattern_data"
   ]
  },
  {
   "cell_type": "markdown",
   "metadata": {
    "colab_type": "text",
    "id": "0obsEaYepfMf"
   },
   "source": [
    "# Sec-2.2 : Creating labels for our data\n",
    "\n",
    "* If the middle element was **lower case**, a **+1** was assigned to the sequence, denoting that the given **residue is an ATP interacting residue**\n",
    "* If the middle element was **upper case**, a **-1** was assigned to the sequence, denoting that the given **residue is NOT an ATP interacting residue**"
   ]
  },
  {
   "cell_type": "code",
   "execution_count": 0,
   "metadata": {
    "colab": {},
    "colab_type": "code",
    "id": "P_W7zCX9hRgS"
   },
   "outputs": [],
   "source": [
    "def label_data(pat_data):\n",
    "    ans = []\n",
    "    for protein_seq in pat_data:\n",
    "        target = protein_seq[int(len(protein_seq)/2)]\n",
    "        if target.islower():\n",
    "            ans.append(1)\n",
    "        elif target.isupper():\n",
    "            ans.append(-1)\n",
    "    return pd.Series(ans)"
   ]
  },
  {
   "cell_type": "code",
   "execution_count": 0,
   "metadata": {
    "colab": {},
    "colab_type": "code",
    "id": "uc7W-QfihUDq"
   },
   "outputs": [],
   "source": [
    "Y_data = label_data(pattern_data)"
   ]
  },
  {
   "cell_type": "code",
   "execution_count": 13,
   "metadata": {
    "colab": {
     "base_uri": "https://localhost:8080/",
     "height": 218
    },
    "colab_type": "code",
    "id": "u3N_IRFjhWKT",
    "outputId": "b4f39e57-276b-4e7f-cb5d-97d847d2e512"
   },
   "outputs": [
    {
     "data": {
      "text/plain": [
       "0       -1\n",
       "1       -1\n",
       "2       -1\n",
       "3       -1\n",
       "4       -1\n",
       "        ..\n",
       "49302   -1\n",
       "49303   -1\n",
       "49304   -1\n",
       "49305   -1\n",
       "49306   -1\n",
       "Length: 49307, dtype: int64"
      ]
     },
     "execution_count": 13,
     "metadata": {
      "tags": []
     },
     "output_type": "execute_result"
    }
   ],
   "source": [
    "Y_data"
   ]
  },
  {
   "cell_type": "markdown",
   "metadata": {
    "colab_type": "text",
    "id": "H972n4trpivo"
   },
   "source": [
    "# Sec-2.3 : Creating a binary profile for our generated patterns\n",
    "\n",
    "Each pattern sequence will be matched to a vector sequence, consisting of amino acids and, a 17\\*21 length vector will be generated. This sequence is a _**reshaped (or flattened)**_ binary matrix which will help us in representing our patterns quantitatively.\n"
   ]
  },
  {
   "cell_type": "code",
   "execution_count": 0,
   "metadata": {
    "colab": {},
    "colab_type": "code",
    "id": "tDkbxHcthX6R"
   },
   "outputs": [],
   "source": [
    "def generate_binaryProfile(pat_data):\n",
    "    amino_acid = ['A','C','D','E','F','G','H','I','K','L','M','N','P','Q','R','S','T','V','W','Y','X' ]    \n",
    "    ans = []\n",
    "    for series in tqdm(pat_data):\n",
    "        ans.append([])\n",
    "        for acid_1 in series:\n",
    "            for acid_2 in amino_acid:\n",
    "                if(acid_1.upper() == acid_2):\n",
    "                    ans[-1].append(1)\n",
    "                else:\n",
    "                    ans[-1].append(0)\n",
    "    \n",
    "    return pd.Series(ans)"
   ]
  },
  {
   "cell_type": "code",
   "execution_count": 15,
   "metadata": {
    "colab": {
     "base_uri": "https://localhost:8080/",
     "height": 66,
     "referenced_widgets": [
      "43f643a3dcbe427a90774c734be16292",
      "1bb3a944ef5147eba1f750fa7449de83",
      "740772a4af4645ad84aae4d856258d08",
      "6069c7cd59354ccabd357d7835653ed1",
      "d2106430e85c4ae798ef5ab3b2cb1dbe",
      "34afc688e34445eb8331b21f696f49ee",
      "1907ef84e04649c2baae31aecbeac276",
      "9c4cc26800a04500bf1788ed4810d3bb"
     ]
    },
    "colab_type": "code",
    "id": "8sqtkgDkhahP",
    "outputId": "af407d2f-bfeb-459e-b41b-c0a227b2660e"
   },
   "outputs": [
    {
     "data": {
      "application/vnd.jupyter.widget-view+json": {
       "model_id": "43f643a3dcbe427a90774c734be16292",
       "version_major": 2,
       "version_minor": 0
      },
      "text/plain": [
       "HBox(children=(IntProgress(value=0, max=49307), HTML(value='')))"
      ]
     },
     "metadata": {
      "tags": []
     },
     "output_type": "display_data"
    },
    {
     "name": "stdout",
     "output_type": "stream",
     "text": [
      "\n"
     ]
    }
   ],
   "source": [
    "X_data = generate_binaryProfile(pattern_data)"
   ]
  },
  {
   "cell_type": "code",
   "execution_count": 16,
   "metadata": {
    "colab": {
     "base_uri": "https://localhost:8080/",
     "height": 218
    },
    "colab_type": "code",
    "id": "lcMzMioehc2J",
    "outputId": "5f355f2f-c628-4de3-a46d-51e864f43406"
   },
   "outputs": [
    {
     "data": {
      "text/plain": [
       "0        [0, 0, 0, 0, 0, 0, 0, 0, 0, 0, 0, 0, 0, 0, 0, ...\n",
       "1        [0, 0, 0, 0, 0, 0, 0, 0, 0, 0, 0, 0, 0, 0, 0, ...\n",
       "2        [0, 0, 0, 0, 0, 0, 0, 0, 0, 0, 0, 0, 0, 0, 0, ...\n",
       "3        [0, 0, 0, 0, 0, 0, 0, 0, 0, 0, 0, 0, 0, 0, 0, ...\n",
       "4        [0, 0, 0, 0, 0, 0, 0, 0, 0, 0, 0, 0, 0, 0, 0, ...\n",
       "                               ...                        \n",
       "49302    [0, 1, 0, 0, 0, 0, 0, 0, 0, 0, 0, 0, 0, 0, 0, ...\n",
       "49303    [0, 0, 0, 1, 0, 0, 0, 0, 0, 0, 0, 0, 0, 0, 0, ...\n",
       "49304    [0, 0, 0, 0, 0, 0, 0, 0, 1, 0, 0, 0, 0, 0, 0, ...\n",
       "49305    [0, 0, 0, 1, 0, 0, 0, 0, 0, 0, 0, 0, 0, 0, 0, ...\n",
       "49306    [0, 0, 0, 0, 1, 0, 0, 0, 0, 0, 0, 0, 0, 0, 0, ...\n",
       "Length: 49307, dtype: object"
      ]
     },
     "execution_count": 16,
     "metadata": {
      "tags": []
     },
     "output_type": "execute_result"
    }
   ],
   "source": [
    "X_data"
   ]
  },
  {
   "cell_type": "markdown",
   "metadata": {
    "colab_type": "text",
    "id": "1NUhWjP9psgN"
   },
   "source": [
    "---\n",
    "\n",
    "\n",
    "# Sec-3 : Applying Machine Learning techniques to dataset\n",
    "\n",
    "We chose SVC (Support Vector Classifier) as our training algorithm as it is best suited for binary class classification problem on huge datasets."
   ]
  },
  {
   "cell_type": "code",
   "execution_count": 0,
   "metadata": {
    "colab": {},
    "colab_type": "code",
    "id": "jiik8JlJhiTN"
   },
   "outputs": [],
   "source": [
    "from sklearn.svm import SVC\n",
    "model = SVC(kernel = 'rbf', C = 2, gamma = 0.1)"
   ]
  },
  {
   "cell_type": "markdown",
   "metadata": {
    "colab_type": "text",
    "id": "Rh_BiKS9p9cX"
   },
   "source": [
    "# Sec-3.1 : Splitting into training and testing sets\n"
   ]
  },
  {
   "cell_type": "code",
   "execution_count": 0,
   "metadata": {
    "colab": {},
    "colab_type": "code",
    "id": "UiXDmILoj9wl"
   },
   "outputs": [],
   "source": [
    "from sklearn.model_selection import train_test_split\n",
    "X_train, X_test, Y_train, Y_test = train_test_split(X_data.tolist(), Y_data.tolist(), test_size=0.2, random_state=0)"
   ]
  },
  {
   "cell_type": "markdown",
   "metadata": {},
   "source": [
    "# Sec-3.2 : Fitting our data on the training sets"
   ]
  },
  {
   "cell_type": "code",
   "execution_count": 19,
   "metadata": {
    "colab": {
     "base_uri": "https://localhost:8080/",
     "height": 84
    },
    "colab_type": "code",
    "id": "WmXbqrdxkEKp",
    "outputId": "b0faa7d1-000c-47ca-f84b-5621a735dae4"
   },
   "outputs": [
    {
     "data": {
      "text/plain": [
       "SVC(C=2, break_ties=False, cache_size=200, class_weight=None, coef0=0.0,\n",
       "    decision_function_shape='ovr', degree=3, gamma=0.1, kernel='rbf',\n",
       "    max_iter=-1, probability=False, random_state=None, shrinking=True,\n",
       "    tol=0.001, verbose=False)"
      ]
     },
     "execution_count": 19,
     "metadata": {
      "tags": []
     },
     "output_type": "execute_result"
    }
   ],
   "source": [
    "model.fit(X_train, Y_train)"
   ]
  },
  {
   "cell_type": "markdown",
   "metadata": {},
   "source": [
    "# Sec-3.3 : Predicting the test data"
   ]
  },
  {
   "cell_type": "code",
   "execution_count": 0,
   "metadata": {
    "colab": {},
    "colab_type": "code",
    "id": "CbqqY5P_kOrx"
   },
   "outputs": [],
   "source": [
    "Y_test_predict = model.predict(X_test) "
   ]
  },
  {
   "cell_type": "markdown",
   "metadata": {},
   "source": [
    "# Sec-3.4 : Evaluating our model by calculating the area under ROC curve"
   ]
  },
  {
   "cell_type": "code",
   "execution_count": 21,
   "metadata": {
    "colab": {
     "base_uri": "https://localhost:8080/",
     "height": 34
    },
    "colab_type": "code",
    "id": "EqThr_wHkm5D",
    "outputId": "b9844fa3-f351-49f9-b9d9-35bc6eb468f0"
   },
   "outputs": [
    {
     "data": {
      "text/plain": [
       "0.5315259522502983"
      ]
     },
     "execution_count": 21,
     "metadata": {
      "tags": []
     },
     "output_type": "execute_result"
    }
   ],
   "source": [
    "from sklearn.metrics import roc_auc_score\n",
    "roc_auc_score(Y_test, Y_test_predict.tolist())"
   ]
  },
  {
   "cell_type": "code",
   "execution_count": 23,
   "metadata": {
    "colab": {
     "base_uri": "https://localhost:8080/",
     "height": 34
    },
    "colab_type": "code",
    "id": "xOxRdXD2mYUq",
    "outputId": "6615ee21-fbf8-418e-a397-45cc0d5be014"
   },
   "outputs": [
    {
     "data": {
      "text/plain": [
       "array([-1, -1, -1, ..., -1, -1, -1])"
      ]
     },
     "execution_count": 23,
     "metadata": {
      "tags": []
     },
     "output_type": "execute_result"
    }
   ],
   "source": [
    "Y_test_predict"
   ]
  },
  {
   "cell_type": "markdown",
   "metadata": {},
   "source": [
    "---\n",
    "\n",
    "\n",
    "# Sec-4 : Generating output for submission\n"
   ]
  },
  {
   "cell_type": "code",
   "execution_count": 0,
   "metadata": {
    "colab": {},
    "colab_type": "code",
    "id": "hwq5uvcswalJ"
   },
   "outputs": [],
   "source": [
    "pd.read_csv('test1.txt')\n",
    "X_predict_data = pd.read_csv('test1.txt')['Lable'].tolist()\n",
    "X_predict_string = ''.join(map(str, X_predict_data))"
   ]
  },
  {
   "cell_type": "code",
   "execution_count": 0,
   "metadata": {
    "colab": {},
    "colab_type": "code",
    "id": "uADeSlYroUTL"
   },
   "outputs": [],
   "source": [
    "X_predict_pattern_data = generate_pattern([X_predict_string], size)"
   ]
  },
  {
   "cell_type": "code",
   "execution_count": 29,
   "metadata": {
    "colab": {
     "base_uri": "https://localhost:8080/",
     "height": 218
    },
    "colab_type": "code",
    "id": "PRa_jxr_oc1y",
    "outputId": "f38a302e-eba2-4960-bc5c-190a3da7c090"
   },
   "outputs": [
    {
     "data": {
      "text/plain": [
       "0        XXXXXXXXAASSLDELV\n",
       "1        XXXXXXXAASSLDELVA\n",
       "2        XXXXXXAASSLDELVAL\n",
       "3        XXXXXAASSLDELVALC\n",
       "4        XXXXAASSLDELVALCK\n",
       "               ...        \n",
       "13018    IQWKYREPKDRSEXXXX\n",
       "13019    QWKYREPKDRSEXXXXX\n",
       "13020    WKYREPKDRSEXXXXXX\n",
       "13021    KYREPKDRSEXXXXXXX\n",
       "13022    YREPKDRSEXXXXXXXX\n",
       "Length: 13023, dtype: object"
      ]
     },
     "execution_count": 29,
     "metadata": {
      "tags": []
     },
     "output_type": "execute_result"
    }
   ],
   "source": [
    "X_predict_pattern_data"
   ]
  },
  {
   "cell_type": "code",
   "execution_count": 30,
   "metadata": {
    "colab": {
     "base_uri": "https://localhost:8080/",
     "height": 66,
     "referenced_widgets": [
      "18d222863c4545178670d41f1c1ad1d4",
      "27fa9dff5a854175b11a6f0cd600cb1c",
      "9f8f79ddd5564c22956396a4abea6ab0",
      "8dadd0a7914f40b7804f71f63a4f9d82",
      "8c6ddd0618744d4ca7be92d964b936f8",
      "f82f126b12964024aa45d1362c4e70f7",
      "68595bd8a2274ed28765f7d9b8bca03b",
      "14ad958e583245d3b968167e10a14d63"
     ]
    },
    "colab_type": "code",
    "id": "jEOOPgvwof7F",
    "outputId": "f4eb4300-31a3-4bb5-f074-7f036a6f713f"
   },
   "outputs": [
    {
     "data": {
      "application/vnd.jupyter.widget-view+json": {
       "model_id": "18d222863c4545178670d41f1c1ad1d4",
       "version_major": 2,
       "version_minor": 0
      },
      "text/plain": [
       "HBox(children=(IntProgress(value=0, max=13023), HTML(value='')))"
      ]
     },
     "metadata": {
      "tags": []
     },
     "output_type": "display_data"
    },
    {
     "name": "stdout",
     "output_type": "stream",
     "text": [
      "\n"
     ]
    }
   ],
   "source": [
    "X_predict = generate_binaryProfile(X_predict_pattern_data)"
   ]
  },
  {
   "cell_type": "code",
   "execution_count": 0,
   "metadata": {
    "colab": {},
    "colab_type": "code",
    "id": "bYftd0jtoiEB"
   },
   "outputs": [],
   "source": [
    "Y_predict = model.predict(X_predict.tolist())"
   ]
  },
  {
   "cell_type": "code",
   "execution_count": 32,
   "metadata": {
    "colab": {
     "base_uri": "https://localhost:8080/",
     "height": 218
    },
    "colab_type": "code",
    "id": "D3quarchok9s",
    "outputId": "76f14d35-a9ed-4587-c3e0-18abe8083914"
   },
   "outputs": [
    {
     "data": {
      "text/plain": [
       "0       -1\n",
       "1       -1\n",
       "2       -1\n",
       "3       -1\n",
       "4       -1\n",
       "        ..\n",
       "13018   -1\n",
       "13019   -1\n",
       "13020   -1\n",
       "13021   -1\n",
       "13022   -1\n",
       "Length: 13023, dtype: int64"
      ]
     },
     "execution_count": 32,
     "metadata": {
      "tags": []
     },
     "output_type": "execute_result"
    }
   ],
   "source": [
    "pd.Series(Y_predict)"
   ]
  },
  {
   "cell_type": "code",
   "execution_count": 33,
   "metadata": {
    "colab": {
     "base_uri": "https://localhost:8080/",
     "height": 402
    },
    "colab_type": "code",
    "id": "e5UI8qvJosTu",
    "outputId": "3a9927ca-e355-46db-fddc-0906c19f5ab5"
   },
   "outputs": [
    {
     "data": {
      "text/html": [
       "<div>\n",
       "<style scoped>\n",
       "    .dataframe tbody tr th:only-of-type {\n",
       "        vertical-align: middle;\n",
       "    }\n",
       "\n",
       "    .dataframe tbody tr th {\n",
       "        vertical-align: top;\n",
       "    }\n",
       "\n",
       "    .dataframe thead th {\n",
       "        text-align: right;\n",
       "    }\n",
       "</style>\n",
       "<table border=\"1\" class=\"dataframe\">\n",
       "  <thead>\n",
       "    <tr style=\"text-align: right;\">\n",
       "      <th></th>\n",
       "      <th>ID</th>\n",
       "      <th>Lable</th>\n",
       "    </tr>\n",
       "  </thead>\n",
       "  <tbody>\n",
       "    <tr>\n",
       "      <th>0</th>\n",
       "      <td>10001</td>\n",
       "      <td>-1</td>\n",
       "    </tr>\n",
       "    <tr>\n",
       "      <th>1</th>\n",
       "      <td>10002</td>\n",
       "      <td>-1</td>\n",
       "    </tr>\n",
       "    <tr>\n",
       "      <th>2</th>\n",
       "      <td>10003</td>\n",
       "      <td>-1</td>\n",
       "    </tr>\n",
       "    <tr>\n",
       "      <th>3</th>\n",
       "      <td>10004</td>\n",
       "      <td>-1</td>\n",
       "    </tr>\n",
       "    <tr>\n",
       "      <th>4</th>\n",
       "      <td>10005</td>\n",
       "      <td>-1</td>\n",
       "    </tr>\n",
       "    <tr>\n",
       "      <th>...</th>\n",
       "      <td>...</td>\n",
       "      <td>...</td>\n",
       "    </tr>\n",
       "    <tr>\n",
       "      <th>13018</th>\n",
       "      <td>23019</td>\n",
       "      <td>-1</td>\n",
       "    </tr>\n",
       "    <tr>\n",
       "      <th>13019</th>\n",
       "      <td>23020</td>\n",
       "      <td>-1</td>\n",
       "    </tr>\n",
       "    <tr>\n",
       "      <th>13020</th>\n",
       "      <td>23021</td>\n",
       "      <td>-1</td>\n",
       "    </tr>\n",
       "    <tr>\n",
       "      <th>13021</th>\n",
       "      <td>23022</td>\n",
       "      <td>-1</td>\n",
       "    </tr>\n",
       "    <tr>\n",
       "      <th>13022</th>\n",
       "      <td>23023</td>\n",
       "      <td>-1</td>\n",
       "    </tr>\n",
       "  </tbody>\n",
       "</table>\n",
       "<p>13023 rows × 2 columns</p>\n",
       "</div>"
      ],
      "text/plain": [
       "          ID  Lable\n",
       "0      10001     -1\n",
       "1      10002     -1\n",
       "2      10003     -1\n",
       "3      10004     -1\n",
       "4      10005     -1\n",
       "...      ...    ...\n",
       "13018  23019     -1\n",
       "13019  23020     -1\n",
       "13020  23021     -1\n",
       "13021  23022     -1\n",
       "13022  23023     -1\n",
       "\n",
       "[13023 rows x 2 columns]"
      ]
     },
     "execution_count": 33,
     "metadata": {
      "tags": []
     },
     "output_type": "execute_result"
    }
   ],
   "source": [
    "output = { 'ID': pd.read_csv('test1.txt')['ID'], 'Lable': pd.Series(Y_predict) } \n",
    "output = pd.DataFrame(output)\n",
    "output"
   ]
  },
  {
   "cell_type": "code",
   "execution_count": 0,
   "metadata": {
    "colab": {},
    "colab_type": "code",
    "id": "8EYbTnYOoyKN"
   },
   "outputs": [],
   "source": [
    "output.to_csv('out_new.csv', index=False)  "
   ]
  }
 ],
 "metadata": {
  "accelerator": "GPU",
  "colab": {
   "collapsed_sections": [],
   "name": "Untitled1.ipynb",
   "provenance": []
  },
  "kernelspec": {
   "display_name": "Python 3",
   "language": "python",
   "name": "python3"
  },
  "language_info": {
   "codemirror_mode": {
    "name": "ipython",
    "version": 3
   },
   "file_extension": ".py",
   "mimetype": "text/x-python",
   "name": "python",
   "nbconvert_exporter": "python",
   "pygments_lexer": "ipython3",
   "version": "3.7.4"
  },
  "widgets": {
   "application/vnd.jupyter.widget-state+json": {
    "14ad958e583245d3b968167e10a14d63": {
     "model_module": "@jupyter-widgets/base",
     "model_name": "LayoutModel",
     "state": {
      "_model_module": "@jupyter-widgets/base",
      "_model_module_version": "1.2.0",
      "_model_name": "LayoutModel",
      "_view_count": null,
      "_view_module": "@jupyter-widgets/base",
      "_view_module_version": "1.2.0",
      "_view_name": "LayoutView",
      "align_content": null,
      "align_items": null,
      "align_self": null,
      "border": null,
      "bottom": null,
      "display": null,
      "flex": null,
      "flex_flow": null,
      "grid_area": null,
      "grid_auto_columns": null,
      "grid_auto_flow": null,
      "grid_auto_rows": null,
      "grid_column": null,
      "grid_gap": null,
      "grid_row": null,
      "grid_template_areas": null,
      "grid_template_columns": null,
      "grid_template_rows": null,
      "height": null,
      "justify_content": null,
      "justify_items": null,
      "left": null,
      "margin": null,
      "max_height": null,
      "max_width": null,
      "min_height": null,
      "min_width": null,
      "object_fit": null,
      "object_position": null,
      "order": null,
      "overflow": null,
      "overflow_x": null,
      "overflow_y": null,
      "padding": null,
      "right": null,
      "top": null,
      "visibility": null,
      "width": null
     }
    },
    "18d222863c4545178670d41f1c1ad1d4": {
     "model_module": "@jupyter-widgets/controls",
     "model_name": "HBoxModel",
     "state": {
      "_dom_classes": [],
      "_model_module": "@jupyter-widgets/controls",
      "_model_module_version": "1.5.0",
      "_model_name": "HBoxModel",
      "_view_count": null,
      "_view_module": "@jupyter-widgets/controls",
      "_view_module_version": "1.5.0",
      "_view_name": "HBoxView",
      "box_style": "",
      "children": [
       "IPY_MODEL_9f8f79ddd5564c22956396a4abea6ab0",
       "IPY_MODEL_8dadd0a7914f40b7804f71f63a4f9d82"
      ],
      "layout": "IPY_MODEL_27fa9dff5a854175b11a6f0cd600cb1c"
     }
    },
    "1907ef84e04649c2baae31aecbeac276": {
     "model_module": "@jupyter-widgets/controls",
     "model_name": "DescriptionStyleModel",
     "state": {
      "_model_module": "@jupyter-widgets/controls",
      "_model_module_version": "1.5.0",
      "_model_name": "DescriptionStyleModel",
      "_view_count": null,
      "_view_module": "@jupyter-widgets/base",
      "_view_module_version": "1.2.0",
      "_view_name": "StyleView",
      "description_width": ""
     }
    },
    "1bb3a944ef5147eba1f750fa7449de83": {
     "model_module": "@jupyter-widgets/base",
     "model_name": "LayoutModel",
     "state": {
      "_model_module": "@jupyter-widgets/base",
      "_model_module_version": "1.2.0",
      "_model_name": "LayoutModel",
      "_view_count": null,
      "_view_module": "@jupyter-widgets/base",
      "_view_module_version": "1.2.0",
      "_view_name": "LayoutView",
      "align_content": null,
      "align_items": null,
      "align_self": null,
      "border": null,
      "bottom": null,
      "display": null,
      "flex": null,
      "flex_flow": null,
      "grid_area": null,
      "grid_auto_columns": null,
      "grid_auto_flow": null,
      "grid_auto_rows": null,
      "grid_column": null,
      "grid_gap": null,
      "grid_row": null,
      "grid_template_areas": null,
      "grid_template_columns": null,
      "grid_template_rows": null,
      "height": null,
      "justify_content": null,
      "justify_items": null,
      "left": null,
      "margin": null,
      "max_height": null,
      "max_width": null,
      "min_height": null,
      "min_width": null,
      "object_fit": null,
      "object_position": null,
      "order": null,
      "overflow": null,
      "overflow_x": null,
      "overflow_y": null,
      "padding": null,
      "right": null,
      "top": null,
      "visibility": null,
      "width": null
     }
    },
    "27fa9dff5a854175b11a6f0cd600cb1c": {
     "model_module": "@jupyter-widgets/base",
     "model_name": "LayoutModel",
     "state": {
      "_model_module": "@jupyter-widgets/base",
      "_model_module_version": "1.2.0",
      "_model_name": "LayoutModel",
      "_view_count": null,
      "_view_module": "@jupyter-widgets/base",
      "_view_module_version": "1.2.0",
      "_view_name": "LayoutView",
      "align_content": null,
      "align_items": null,
      "align_self": null,
      "border": null,
      "bottom": null,
      "display": null,
      "flex": null,
      "flex_flow": null,
      "grid_area": null,
      "grid_auto_columns": null,
      "grid_auto_flow": null,
      "grid_auto_rows": null,
      "grid_column": null,
      "grid_gap": null,
      "grid_row": null,
      "grid_template_areas": null,
      "grid_template_columns": null,
      "grid_template_rows": null,
      "height": null,
      "justify_content": null,
      "justify_items": null,
      "left": null,
      "margin": null,
      "max_height": null,
      "max_width": null,
      "min_height": null,
      "min_width": null,
      "object_fit": null,
      "object_position": null,
      "order": null,
      "overflow": null,
      "overflow_x": null,
      "overflow_y": null,
      "padding": null,
      "right": null,
      "top": null,
      "visibility": null,
      "width": null
     }
    },
    "34afc688e34445eb8331b21f696f49ee": {
     "model_module": "@jupyter-widgets/base",
     "model_name": "LayoutModel",
     "state": {
      "_model_module": "@jupyter-widgets/base",
      "_model_module_version": "1.2.0",
      "_model_name": "LayoutModel",
      "_view_count": null,
      "_view_module": "@jupyter-widgets/base",
      "_view_module_version": "1.2.0",
      "_view_name": "LayoutView",
      "align_content": null,
      "align_items": null,
      "align_self": null,
      "border": null,
      "bottom": null,
      "display": null,
      "flex": null,
      "flex_flow": null,
      "grid_area": null,
      "grid_auto_columns": null,
      "grid_auto_flow": null,
      "grid_auto_rows": null,
      "grid_column": null,
      "grid_gap": null,
      "grid_row": null,
      "grid_template_areas": null,
      "grid_template_columns": null,
      "grid_template_rows": null,
      "height": null,
      "justify_content": null,
      "justify_items": null,
      "left": null,
      "margin": null,
      "max_height": null,
      "max_width": null,
      "min_height": null,
      "min_width": null,
      "object_fit": null,
      "object_position": null,
      "order": null,
      "overflow": null,
      "overflow_x": null,
      "overflow_y": null,
      "padding": null,
      "right": null,
      "top": null,
      "visibility": null,
      "width": null
     }
    },
    "43f643a3dcbe427a90774c734be16292": {
     "model_module": "@jupyter-widgets/controls",
     "model_name": "HBoxModel",
     "state": {
      "_dom_classes": [],
      "_model_module": "@jupyter-widgets/controls",
      "_model_module_version": "1.5.0",
      "_model_name": "HBoxModel",
      "_view_count": null,
      "_view_module": "@jupyter-widgets/controls",
      "_view_module_version": "1.5.0",
      "_view_name": "HBoxView",
      "box_style": "",
      "children": [
       "IPY_MODEL_740772a4af4645ad84aae4d856258d08",
       "IPY_MODEL_6069c7cd59354ccabd357d7835653ed1"
      ],
      "layout": "IPY_MODEL_1bb3a944ef5147eba1f750fa7449de83"
     }
    },
    "6069c7cd59354ccabd357d7835653ed1": {
     "model_module": "@jupyter-widgets/controls",
     "model_name": "HTMLModel",
     "state": {
      "_dom_classes": [],
      "_model_module": "@jupyter-widgets/controls",
      "_model_module_version": "1.5.0",
      "_model_name": "HTMLModel",
      "_view_count": null,
      "_view_module": "@jupyter-widgets/controls",
      "_view_module_version": "1.5.0",
      "_view_name": "HTMLView",
      "description": "",
      "description_tooltip": null,
      "layout": "IPY_MODEL_9c4cc26800a04500bf1788ed4810d3bb",
      "placeholder": "​",
      "style": "IPY_MODEL_1907ef84e04649c2baae31aecbeac276",
      "value": " 49307/49307 [00:14&lt;00:00, 3295.79it/s]"
     }
    },
    "68595bd8a2274ed28765f7d9b8bca03b": {
     "model_module": "@jupyter-widgets/controls",
     "model_name": "DescriptionStyleModel",
     "state": {
      "_model_module": "@jupyter-widgets/controls",
      "_model_module_version": "1.5.0",
      "_model_name": "DescriptionStyleModel",
      "_view_count": null,
      "_view_module": "@jupyter-widgets/base",
      "_view_module_version": "1.2.0",
      "_view_name": "StyleView",
      "description_width": ""
     }
    },
    "740772a4af4645ad84aae4d856258d08": {
     "model_module": "@jupyter-widgets/controls",
     "model_name": "IntProgressModel",
     "state": {
      "_dom_classes": [],
      "_model_module": "@jupyter-widgets/controls",
      "_model_module_version": "1.5.0",
      "_model_name": "IntProgressModel",
      "_view_count": null,
      "_view_module": "@jupyter-widgets/controls",
      "_view_module_version": "1.5.0",
      "_view_name": "ProgressView",
      "bar_style": "success",
      "description": "100%",
      "description_tooltip": null,
      "layout": "IPY_MODEL_34afc688e34445eb8331b21f696f49ee",
      "max": 49307,
      "min": 0,
      "orientation": "horizontal",
      "style": "IPY_MODEL_d2106430e85c4ae798ef5ab3b2cb1dbe",
      "value": 49307
     }
    },
    "8c6ddd0618744d4ca7be92d964b936f8": {
     "model_module": "@jupyter-widgets/controls",
     "model_name": "ProgressStyleModel",
     "state": {
      "_model_module": "@jupyter-widgets/controls",
      "_model_module_version": "1.5.0",
      "_model_name": "ProgressStyleModel",
      "_view_count": null,
      "_view_module": "@jupyter-widgets/base",
      "_view_module_version": "1.2.0",
      "_view_name": "StyleView",
      "bar_color": null,
      "description_width": "initial"
     }
    },
    "8dadd0a7914f40b7804f71f63a4f9d82": {
     "model_module": "@jupyter-widgets/controls",
     "model_name": "HTMLModel",
     "state": {
      "_dom_classes": [],
      "_model_module": "@jupyter-widgets/controls",
      "_model_module_version": "1.5.0",
      "_model_name": "HTMLModel",
      "_view_count": null,
      "_view_module": "@jupyter-widgets/controls",
      "_view_module_version": "1.5.0",
      "_view_name": "HTMLView",
      "description": "",
      "description_tooltip": null,
      "layout": "IPY_MODEL_14ad958e583245d3b968167e10a14d63",
      "placeholder": "​",
      "style": "IPY_MODEL_68595bd8a2274ed28765f7d9b8bca03b",
      "value": " 13023/13023 [00:00&lt;00:00, 16599.56it/s]"
     }
    },
    "9c4cc26800a04500bf1788ed4810d3bb": {
     "model_module": "@jupyter-widgets/base",
     "model_name": "LayoutModel",
     "state": {
      "_model_module": "@jupyter-widgets/base",
      "_model_module_version": "1.2.0",
      "_model_name": "LayoutModel",
      "_view_count": null,
      "_view_module": "@jupyter-widgets/base",
      "_view_module_version": "1.2.0",
      "_view_name": "LayoutView",
      "align_content": null,
      "align_items": null,
      "align_self": null,
      "border": null,
      "bottom": null,
      "display": null,
      "flex": null,
      "flex_flow": null,
      "grid_area": null,
      "grid_auto_columns": null,
      "grid_auto_flow": null,
      "grid_auto_rows": null,
      "grid_column": null,
      "grid_gap": null,
      "grid_row": null,
      "grid_template_areas": null,
      "grid_template_columns": null,
      "grid_template_rows": null,
      "height": null,
      "justify_content": null,
      "justify_items": null,
      "left": null,
      "margin": null,
      "max_height": null,
      "max_width": null,
      "min_height": null,
      "min_width": null,
      "object_fit": null,
      "object_position": null,
      "order": null,
      "overflow": null,
      "overflow_x": null,
      "overflow_y": null,
      "padding": null,
      "right": null,
      "top": null,
      "visibility": null,
      "width": null
     }
    },
    "9f8f79ddd5564c22956396a4abea6ab0": {
     "model_module": "@jupyter-widgets/controls",
     "model_name": "IntProgressModel",
     "state": {
      "_dom_classes": [],
      "_model_module": "@jupyter-widgets/controls",
      "_model_module_version": "1.5.0",
      "_model_name": "IntProgressModel",
      "_view_count": null,
      "_view_module": "@jupyter-widgets/controls",
      "_view_module_version": "1.5.0",
      "_view_name": "ProgressView",
      "bar_style": "success",
      "description": "100%",
      "description_tooltip": null,
      "layout": "IPY_MODEL_f82f126b12964024aa45d1362c4e70f7",
      "max": 13023,
      "min": 0,
      "orientation": "horizontal",
      "style": "IPY_MODEL_8c6ddd0618744d4ca7be92d964b936f8",
      "value": 13023
     }
    },
    "d2106430e85c4ae798ef5ab3b2cb1dbe": {
     "model_module": "@jupyter-widgets/controls",
     "model_name": "ProgressStyleModel",
     "state": {
      "_model_module": "@jupyter-widgets/controls",
      "_model_module_version": "1.5.0",
      "_model_name": "ProgressStyleModel",
      "_view_count": null,
      "_view_module": "@jupyter-widgets/base",
      "_view_module_version": "1.2.0",
      "_view_name": "StyleView",
      "bar_color": null,
      "description_width": "initial"
     }
    },
    "f82f126b12964024aa45d1362c4e70f7": {
     "model_module": "@jupyter-widgets/base",
     "model_name": "LayoutModel",
     "state": {
      "_model_module": "@jupyter-widgets/base",
      "_model_module_version": "1.2.0",
      "_model_name": "LayoutModel",
      "_view_count": null,
      "_view_module": "@jupyter-widgets/base",
      "_view_module_version": "1.2.0",
      "_view_name": "LayoutView",
      "align_content": null,
      "align_items": null,
      "align_self": null,
      "border": null,
      "bottom": null,
      "display": null,
      "flex": null,
      "flex_flow": null,
      "grid_area": null,
      "grid_auto_columns": null,
      "grid_auto_flow": null,
      "grid_auto_rows": null,
      "grid_column": null,
      "grid_gap": null,
      "grid_row": null,
      "grid_template_areas": null,
      "grid_template_columns": null,
      "grid_template_rows": null,
      "height": null,
      "justify_content": null,
      "justify_items": null,
      "left": null,
      "margin": null,
      "max_height": null,
      "max_width": null,
      "min_height": null,
      "min_width": null,
      "object_fit": null,
      "object_position": null,
      "order": null,
      "overflow": null,
      "overflow_x": null,
      "overflow_y": null,
      "padding": null,
      "right": null,
      "top": null,
      "visibility": null,
      "width": null
     }
    }
   }
  }
 },
 "nbformat": 4,
 "nbformat_minor": 1
}
